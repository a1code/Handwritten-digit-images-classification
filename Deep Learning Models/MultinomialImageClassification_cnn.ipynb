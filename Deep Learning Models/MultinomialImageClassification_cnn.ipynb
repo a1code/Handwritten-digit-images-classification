{
  "nbformat": 4,
  "nbformat_minor": 0,
  "metadata": {
    "anaconda-cloud": {},
    "kernelspec": {
      "display_name": "Python 3",
      "language": "python",
      "name": "python3"
    },
    "language_info": {
      "codemirror_mode": {
        "name": "ipython",
        "version": 3
      },
      "file_extension": ".py",
      "mimetype": "text/x-python",
      "name": "python",
      "nbconvert_exporter": "python",
      "pygments_lexer": "ipython3",
      "version": "3.6.1"
    },
    "colab": {
      "name": "MultinomialImageClassification_cnn.ipynb",
      "provenance": []
    }
  },
  "cells": [
    {
      "cell_type": "markdown",
      "metadata": {
        "id": "ERl7-jmJMce_"
      },
      "source": [
        "Based on my learnings from the Deep Learning Specialization offered by [deeplearning.ai](https://www.coursera.org/specializations/deep-learning)."
      ]
    },
    {
      "cell_type": "code",
      "metadata": {
        "id": "J30cf3KOb9rk"
      },
      "source": [
        "import tensorflow as tf\n",
        "tf.compat.v1.disable_eager_execution()\n",
        "from tensorflow.python.framework import ops\n",
        "\n",
        "import numpy as np\n",
        "import math\n",
        "\n",
        "from urllib import request\n",
        "import gzip\n",
        "import pickle\n",
        "\n",
        "import matplotlib.pyplot as plt\n",
        "plt.rcParams['figure.figsize'] = (5.0, 4.0) # set default size of plots\n",
        "plt.rcParams['image.interpolation'] = 'nearest'\n",
        "plt.rcParams['image.cmap'] = 'gray'"
      ],
      "execution_count": 1,
      "outputs": []
    },
    {
      "cell_type": "code",
      "metadata": {
        "id": "mAW70XaXcG3W",
        "outputId": "95968ebf-16fa-4e2f-ce11-d4cdcf78d960",
        "colab": {
          "base_uri": "https://localhost:8080/",
          "height": 191
        }
      },
      "source": [
        "# Loading the dataset\n",
        "\n",
        "filename = [\n",
        "[\"training_images\",\"train-images-idx3-ubyte.gz\"],\n",
        "[\"test_images\",\"t10k-images-idx3-ubyte.gz\"],\n",
        "[\"training_labels\",\"train-labels-idx1-ubyte.gz\"],\n",
        "[\"test_labels\",\"t10k-labels-idx1-ubyte.gz\"]\n",
        "]\n",
        "\n",
        "def download_mnist():\n",
        "    base_url = \"http://yann.lecun.com/exdb/mnist/\"\n",
        "    for name in filename:\n",
        "        print(\"Downloading \"+name[1])\n",
        "        request.urlretrieve(base_url+name[1], name[1])\n",
        "    print(\"Download complete.\")\n",
        "\n",
        "def save_mnist():\n",
        "    mnist = {}\n",
        "    for name in filename[:2]:\n",
        "        with gzip.open(name[1], 'rb') as f:\n",
        "            temp_x = np.frombuffer(f.read(), np.uint8, offset=16).reshape(-1,28*28)\n",
        "            mnist[name[0]] = temp_x.reshape(temp_x.shape[0], 28, 28, 1)\n",
        "    for name in filename[-2:]:\n",
        "        with gzip.open(name[1], 'rb') as f:\n",
        "            temp_y = np.frombuffer(f.read(), np.uint8, offset=8)\n",
        "            mnist[name[0]] = temp_y.reshape(1, temp_y.shape[0])\n",
        "    with open(\"mnist.pkl\", 'wb') as f:\n",
        "        pickle.dump(mnist,f)\n",
        "    print(\"Save complete.\")\n",
        "\n",
        "def load_dataset():\n",
        "    with open(\"mnist.pkl\",'rb') as f:\n",
        "        mnist = pickle.load(f)\n",
        "    return mnist[\"training_images\"], mnist[\"training_labels\"], mnist[\"test_images\"], mnist[\"test_labels\"]\n",
        "\n",
        "download_mnist()\n",
        "save_mnist()\n",
        "\n",
        "X_train_orig, Y_train_orig, X_test_orig, Y_test_orig = load_dataset()\n",
        "num_classes = len(np.unique(Y_test_orig))\n",
        "\n",
        "print (\"X_train_orig shape: \" + str(X_train_orig.shape))\n",
        "print (\"Y_train_orig shape: \" + str(Y_train_orig.shape))\n",
        "print (\"X_test_orig shape: \" + str(X_test_orig.shape))\n",
        "print (\"Y_test_orig shape: \" + str(Y_test_orig.shape))"
      ],
      "execution_count": 2,
      "outputs": [
        {
          "output_type": "stream",
          "text": [
            "Downloading train-images-idx3-ubyte.gz\n",
            "Downloading t10k-images-idx3-ubyte.gz\n",
            "Downloading train-labels-idx1-ubyte.gz\n",
            "Downloading t10k-labels-idx1-ubyte.gz\n",
            "Download complete.\n",
            "Save complete.\n",
            "X_train_orig shape: (60000, 28, 28, 1)\n",
            "Y_train_orig shape: (1, 60000)\n",
            "X_test_orig shape: (10000, 28, 28, 1)\n",
            "Y_test_orig shape: (1, 10000)\n"
          ],
          "name": "stdout"
        }
      ]
    },
    {
      "cell_type": "code",
      "metadata": {
        "id": "0RDRgrVBcKZg",
        "outputId": "ce3ec93c-2898-4814-a2cd-db35fa0f83b4",
        "colab": {
          "base_uri": "https://localhost:8080/",
          "height": 282
        }
      },
      "source": [
        "# Example of a picture\n",
        "index = 4\n",
        "plt.imshow((X_train_orig[index,:,:,:]).reshape(28,28))\n",
        "print (\"y = \" + str(np.squeeze(Y_train_orig[:,index])))"
      ],
      "execution_count": 3,
      "outputs": [
        {
          "output_type": "stream",
          "text": [
            "y = 9\n"
          ],
          "name": "stdout"
        },
        {
          "output_type": "display_data",
          "data": {
            "image/png": "[encoded data removed]",
            "text/plain": [
              "<Figure size 432x288 with 1 Axes>"
            ]
          },
          "metadata": {
            "tags": [],
            "needs_background": "light"
          }
        }
      ]
    },
    {
      "cell_type": "code",
      "metadata": {
        "id": "Bn0zRG6ocNXX"
      },
      "source": [
        "# this function encodes true label vector with one-hot encoding\n",
        "\n",
        "def convert_to_one_hot(Y_raw, C):\n",
        "  \"\"\"\n",
        "    Encode true label vector with one-hot encoding\n",
        "    \n",
        "    Arguments:\n",
        "    Y_raw -- true label vector, size: (1, number of training examples)\n",
        "    C -- number of possible classes for labels\n",
        "\n",
        "    Returns:\n",
        "    Y -- one-hot encoded \"true\" label vector, shape: (number of classes, number of examples)\n",
        "  \"\"\"\n",
        "    \n",
        "  Y = np.eye(C)[Y_raw.reshape(-1)].T\n",
        "  return Y"
      ],
      "execution_count": 4,
      "outputs": []
    },
    {
      "cell_type": "code",
      "metadata": {
        "id": "GKBxITCDcQub",
        "outputId": "f24702b9-2f79-4d99-db11-5418abed9823",
        "colab": {
          "base_uri": "https://localhost:8080/",
          "height": 139
        }
      },
      "source": [
        "# Normalize image vectors\n",
        "X_train = X_train_orig/255.\n",
        "X_test = X_test_orig/255.\n",
        "\n",
        "# Convert training and test labels to one hot matrices\n",
        "Y_train = convert_to_one_hot(Y_train_orig, num_classes).T\n",
        "Y_test = convert_to_one_hot(Y_test_orig, num_classes).T\n",
        "\n",
        "print (\"number of label classes = \" + str(num_classes))\n",
        "print (\"number of training examples = \" + str(X_train.shape[0]))\n",
        "print (\"number of test examples = \" + str(X_test.shape[0]))\n",
        "print (\"X_train shape: \" + str(X_train.shape))\n",
        "print (\"Y_train shape: \" + str(Y_train.shape))\n",
        "print (\"X_test shape: \" + str(X_test.shape))\n",
        "print (\"Y_test shape: \" + str(Y_test.shape))"
      ],
      "execution_count": 5,
      "outputs": [
        {
          "output_type": "stream",
          "text": [
            "number of label classes = 10\n",
            "number of training examples = 60000\n",
            "number of test examples = 10000\n",
            "X_train shape: (60000, 28, 28, 1)\n",
            "Y_train shape: (60000, 10)\n",
            "X_test shape: (10000, 28, 28, 1)\n",
            "Y_test shape: (10000, 10)\n"
          ],
          "name": "stdout"
        }
      ]
    },
    {
      "cell_type": "code",
      "metadata": {
        "id": "gXwxLVNqcT64"
      },
      "source": [
        "# this function creates placeholders for input image X and output Y\n",
        "\n",
        "def create_placeholders(n_H0, n_W0, n_C0, n_y):\n",
        "    \"\"\"\n",
        "    Creates the placeholders for the tensorflow session\n",
        "    \n",
        "    Arguments:\n",
        "    n_H0 -- scalar, height of an input image\n",
        "    n_W0 -- scalar, width of an input image\n",
        "    n_C0 -- scalar, number of channels in the input image\n",
        "    n_y -- scalar, number of classes\n",
        "        \n",
        "    Returns:\n",
        "    X -- placeholder for the data input, shape: [None, n_H0, n_W0, n_C0]\n",
        "    Y -- placeholder for the input labels, shape: [None, n_y]\n",
        "    \"\"\"\n",
        "\n",
        "    X = tf.compat.v1.placeholder(tf.float32, (None, n_H0, n_W0, n_C0))\n",
        "    Y = tf.compat.v1.placeholder(tf.float32, (None, n_y))\n",
        "    \n",
        "    return X, Y"
      ],
      "execution_count": 6,
      "outputs": []
    },
    {
      "cell_type": "code",
      "metadata": {
        "id": "HKH3CkOgcXPq"
      },
      "source": [
        "# this function initilizes model parameters for the CNN\n",
        "\n",
        "def initialize_parameters(n_C0):\n",
        "    \"\"\"\n",
        "    Initializes weight parameters of the kernels/filters for convolutional layers in the model:\n",
        "    CONV2D -> RELU -> MAXPOOL -> CONV2D -> RELU -> MAXPOOL -> FLATTEN -> FULLYCONNECTED\n",
        "    \n",
        "    Arguments:\n",
        "    n_C0 -- scalar, number of channels in the input image\n",
        "\n",
        "    Returns:\n",
        "    parameters -- dictionary of tensors containing W1, W2\n",
        "    \"\"\"\n",
        "    \n",
        "    W1 = tf.compat.v1.get_variable(\"W1\", [4, 4, n_C0, 8], tf.float32, \n",
        "                                   tf.compat.v1.keras.initializers.VarianceScaling(scale=1.0, mode=\"fan_avg\", distribution=\"uniform\", seed = 0))\n",
        "    W2 = tf.compat.v1.get_variable(\"W2\", [2, 2, 8, 16], tf.float32, \n",
        "                                   tf.compat.v1.keras.initializers.VarianceScaling(scale=1.0, mode=\"fan_avg\", distribution=\"uniform\", seed = 0))\n",
        "\n",
        "    parameters = {\"W1\": W1,\n",
        "                  \"W2\": W2}\n",
        "    \n",
        "    return parameters"
      ],
      "execution_count": 7,
      "outputs": []
    },
    {
      "cell_type": "code",
      "metadata": {
        "id": "3ewH2XQ5caw8"
      },
      "source": [
        "# this function implements forward propagation through all the layers\n",
        "\n",
        "def forward_propagation(X, parameters, n_y):\n",
        "    \"\"\"\n",
        "    Implements the forward propagation for the model:\n",
        "    CONV2D -> RELU -> MAXPOOL -> CONV2D -> RELU -> MAXPOOL -> FLATTEN -> FULLYCONNECTED\n",
        "    \n",
        "    Note that for simplicity and grading purposes, we'll hard-code some values\n",
        "    such as the stride and kernel (filter) sizes. \n",
        "    Normally, functions should take these values as function parameters.\n",
        "    \n",
        "    Arguments:\n",
        "    X -- input dataset placeholder, shape: (input size, number of examples)\n",
        "    parameters -- dictionary containing model parameters \"W1\", \"W2\"\n",
        "    n_y -- scalar, number of classes\n",
        "\n",
        "    Returns:\n",
        "    Z3 -- the output of the last LINEAR unit\n",
        "    \"\"\"\n",
        "    \n",
        "    # Retrieve the parameters from the dictionary \"parameters\" \n",
        "    W1 = parameters['W1']\n",
        "    W2 = parameters['W2']\n",
        "    \n",
        "    # CONV2D: stride of 1, padding 'SAME'\n",
        "    Z1 = tf.nn.conv2d(input=X, filters=W1, strides = [1,1,1,1], padding = 'SAME')\n",
        "    # RELU\n",
        "    A1 = tf.nn.relu(Z1)\n",
        "    # MAXPOOL: window 8x8, stride 8, padding 'SAME'\n",
        "    P1 = tf.nn.max_pool2d(input=A1, ksize = [1,8,8,1], strides = [1,8,8,1], padding = 'SAME')\n",
        "\n",
        "    # CONV2D: filters W2, stride 1, padding 'SAME'\n",
        "    Z2 = tf.nn.conv2d(input=P1, filters=W2, strides = [1,1,1,1], padding = 'SAME')\n",
        "    # RELU\n",
        "    A2 = tf.nn.relu(Z2)\n",
        "    # MAXPOOL: window 4x4, stride 4, padding 'SAME'\n",
        "    P2 = tf.nn.max_pool2d(input=A2, ksize = [1,4,4,1], strides = [1,4,4,1], padding = 'SAME')\n",
        "\n",
        "    # FLATTEN\n",
        "    F = tf.compat.v1.layers.flatten(P2)\n",
        "\n",
        "    # FULLY-CONNECTED without non-linear activation function\n",
        "    # number of hidden units in the output layer corresponds to number of label classes\n",
        "    Z3 = tf.compat.v1.layers.dense(F, n_y, activation=None)\n",
        "\n",
        "    return Z3"
      ],
      "execution_count": 8,
      "outputs": []
    },
    {
      "cell_type": "code",
      "metadata": {
        "id": "hkpcGJl5ceRm"
      },
      "source": [
        "# this function computes the cross-entropy cost\n",
        "\n",
        "def compute_cost(Z3, Y):\n",
        "    \"\"\"\n",
        "    Computes the softmax cross-entropy cost for multinomial classification\n",
        "    \n",
        "    Arguments:\n",
        "    Z3 -- output of forward propagation (output of the last LINEAR unit), shape: (number of examples, number of classes)\n",
        "    Y -- \"true\" labels vector placeholder, same shape as Z3\n",
        "    \n",
        "    Returns:\n",
        "    cost - Tensor of the cost function\n",
        "    \"\"\"\n",
        "    \n",
        "    cost = tf.reduce_mean(input_tensor=tf.nn.softmax_cross_entropy_with_logits(logits = Z3, labels = tf.stop_gradient( Y)))\n",
        "    \n",
        "    return cost"
      ],
      "execution_count": 9,
      "outputs": []
    },
    {
      "cell_type": "code",
      "metadata": {
        "id": "R2XAvv2qciYV"
      },
      "source": [
        "def random_mini_batches(X, Y, mini_batch_size = 500):\n",
        "    \"\"\"\n",
        "    Creates a list of random minibatches from (X, Y)\n",
        "    \n",
        "    Arguments:\n",
        "    X -- input data, shape: (m, Hi, Wi, Ci)\n",
        "    Y -- true \"label\" vector, shape: (m, n_y)\n",
        "    mini_batch_size - size of the mini-batches, integer\n",
        "    \n",
        "    Returns:\n",
        "    mini_batches -- list of (mini_batch_X, mini_batch_Y)\n",
        "    \"\"\"\n",
        "    \n",
        "    m = X.shape[0]                  # number of training examples\n",
        "    mini_batches = []\n",
        "    \n",
        "    # Shuffle (X, Y)\n",
        "    permutation = list(np.random.permutation(m))\n",
        "    shuffled_X = X[permutation,:,:,:]\n",
        "    shuffled_Y = Y[permutation,:]\n",
        "\n",
        "    # Partition (shuffled_X, shuffled_Y)\n",
        "    num_complete_minibatches = math.floor(m/mini_batch_size) # number of mini batches of size mini_batch_size\n",
        "    for k in range(0, num_complete_minibatches):\n",
        "        mini_batch_X = shuffled_X[k * mini_batch_size : k * mini_batch_size + mini_batch_size,:,:,:]\n",
        "        mini_batch_Y = shuffled_Y[k * mini_batch_size : k * mini_batch_size + mini_batch_size,:]\n",
        "        mini_batch = (mini_batch_X, mini_batch_Y)\n",
        "        mini_batches.append(mini_batch)\n",
        "    \n",
        "    # Handling the end case (last mini-batch < mini_batch_size)\n",
        "    if m % mini_batch_size != 0:\n",
        "        mini_batch_X = shuffled_X[num_complete_minibatches * mini_batch_size : m,:,:,:]\n",
        "        mini_batch_Y = shuffled_Y[num_complete_minibatches * mini_batch_size : m,:]\n",
        "        mini_batch = (mini_batch_X, mini_batch_Y)\n",
        "        mini_batches.append(mini_batch)\n",
        "    \n",
        "    return mini_batches"
      ],
      "execution_count": 10,
      "outputs": []
    },
    {
      "cell_type": "code",
      "metadata": {
        "id": "Uvlb6ZvRcmnJ"
      },
      "source": [
        "# this function implements the 3-layer CNN model\n",
        "\n",
        "def model(X_train, Y_train, X_test, Y_test, learning_rate = 0.009,\n",
        "          num_epochs = 100, minibatch_size = 500, print_cost = True):\n",
        "    \"\"\"\n",
        "    Implements a three-layer ConvNet in Tensorflow:\n",
        "    CONV2D -> RELU -> MAXPOOL -> CONV2D -> RELU -> MAXPOOL -> FLATTEN -> FULLYCONNECTED\n",
        "    \n",
        "    Arguments:\n",
        "    X_train -- training set\n",
        "    Y_train -- test set\n",
        "    X_test -- training set\n",
        "    Y_test -- test set\n",
        "    learning_rate -- determines step sizes during optimization, scalar\n",
        "    num_epochs -- number of passes over the training set during optimization\n",
        "    mini_batch_size -- the size of a mini batch    \n",
        "    print_cost -- True to print the cost every 5 epochs\n",
        "    \n",
        "    Returns:\n",
        "    train_accuracy -- real number, accuracy on the train set (X_train)\n",
        "    test_accuracy -- real number, testing accuracy on the test set (X_test)\n",
        "    parameters -- parameters learnt by the model; used for making predictions\n",
        "    \"\"\"\n",
        "    \n",
        "    ops.reset_default_graph()                         # to be able to rerun the model without overwriting tf variables\n",
        "    (m, n_H0, n_W0, n_C0) = X_train.shape             \n",
        "    n_y = Y_train.shape[1]                      \n",
        "    costs = []                                        # To keep track of the cost\n",
        "        \n",
        "\n",
        "    # Create Placeholders of the correct shape\n",
        "    X, Y = create_placeholders(n_H0, n_W0, n_C0, n_y)\n",
        "\n",
        "    # Initialize parameters\n",
        "    parameters = initialize_parameters(n_C0)\n",
        "    \n",
        "    # Forward propagation: Build the forward propagation in the tensorflow graph\n",
        "    Z3 = forward_propagation(X, parameters, n_y)\n",
        "    \n",
        "    # Cost function: Add cost function to tensorflow graph\n",
        "    cost = compute_cost(Z3, Y)\n",
        "    \n",
        "    # Backpropagation: Define the tensorflow optimizer. Use an AdamOptimizer that minimizes the cost\n",
        "    optimizer = tf.compat.v1.train.AdamOptimizer(learning_rate = learning_rate).minimize(loss = cost)\n",
        "    \n",
        "    # Initialize all the variables globally\n",
        "    init = tf.compat.v1.global_variables_initializer()\n",
        "     \n",
        "    # Start the session to compute the tensorflow graph\n",
        "    with tf.compat.v1.Session() as sess:\n",
        "        \n",
        "        # Run the initialization\n",
        "        sess.run(init)\n",
        "        \n",
        "        # Do the training loop\n",
        "        for epoch in range(num_epochs):\n",
        "\n",
        "            minibatch_cost = 0.\n",
        "            num_minibatches = int(m / minibatch_size) # number of minibatches of size minibatch_size in the train set\n",
        "            minibatches = random_mini_batches(X_train, Y_train, minibatch_size)\n",
        "\n",
        "            for minibatch in minibatches:\n",
        "\n",
        "                # Select a minibatch\n",
        "                (minibatch_X, minibatch_Y) = minibatch\n",
        "                \"\"\"\n",
        "                # Run the session to execute the optimizer and the cost\n",
        "                # The feedict should contain a minibatch for (X,Y)\n",
        "                \"\"\"\n",
        "                _ , temp_cost = sess.run(fetches=[optimizer, cost], feed_dict={X: minibatch_X, Y: minibatch_Y})\n",
        "                \n",
        "                minibatch_cost += temp_cost / num_minibatches\n",
        "                \n",
        "\n",
        "            # Print the cost every 5 epoch\n",
        "            if print_cost == True and epoch % 5 == 0:\n",
        "                print (\"Cost after epoch %i: %f\" % (epoch, minibatch_cost))\n",
        "            if print_cost == True and epoch % 1 == 0:\n",
        "                costs.append(minibatch_cost)\n",
        "        \n",
        "        \n",
        "        # plot the cost\n",
        "        plt.plot(np.squeeze(costs))\n",
        "        plt.ylabel('cost')\n",
        "        plt.xlabel('iterations (per tens)')\n",
        "        plt.title(\"Learning rate =\" + str(learning_rate))\n",
        "        plt.show()\n",
        "\n",
        "        # Calculate the correct predictions\n",
        "        predict_op = tf.argmax(input=Z3, axis=1)\n",
        "        correct_prediction = tf.equal(predict_op, tf.argmax(input=Y, axis=1))\n",
        "        \n",
        "        # Calculate accuracy on the test set\n",
        "        accuracy = tf.reduce_mean(input_tensor=tf.cast(correct_prediction, \"float\"))\n",
        "        train_accuracy = accuracy.eval({X: X_train, Y: Y_train})\n",
        "        test_accuracy = accuracy.eval({X: X_test, Y: Y_test})\n",
        "        print(\"Train Accuracy:\", train_accuracy)\n",
        "        print(\"Test Accuracy:\", test_accuracy)\n",
        "                \n",
        "        return train_accuracy, test_accuracy, parameters"
      ],
      "execution_count": 11,
      "outputs": []
    },
    {
      "cell_type": "code",
      "metadata": {
        "id": "uClMrCTrcrZk",
        "outputId": "7ceffa36-83db-48f9-d0fc-8654ab91a82a",
        "colab": {
          "base_uri": "https://localhost:8080/",
          "height": 853
        }
      },
      "source": [
        "# training the model\n",
        "\n",
        "_, _, parameters = model(X_train, Y_train, X_test, Y_test)"
      ],
      "execution_count": 12,
      "outputs": [
        {
          "output_type": "stream",
          "text": [
            "WARNING:tensorflow:From <ipython-input-8-3f684d38c54e>:40: flatten (from tensorflow.python.keras.legacy_tf_layers.core) is deprecated and will be removed in a future version.\n",
            "Instructions for updating:\n",
            "Use keras.layers.Flatten instead.\n",
            "WARNING:tensorflow:From /usr/local/lib/python3.6/dist-packages/tensorflow/python/keras/legacy_tf_layers/core.py:332: Layer.apply (from tensorflow.python.keras.engine.base_layer_v1) is deprecated and will be removed in a future version.\n",
            "Instructions for updating:\n",
            "Please use `layer.__call__` method instead.\n",
            "WARNING:tensorflow:From <ipython-input-8-3f684d38c54e>:44: dense (from tensorflow.python.keras.legacy_tf_layers.core) is deprecated and will be removed in a future version.\n",
            "Instructions for updating:\n",
            "Use keras.layers.Dense instead.\n",
            "Cost after epoch 0: 1.133566\n",
            "Cost after epoch 5: 0.211377\n",
            "Cost after epoch 10: 0.164185\n",
            "Cost after epoch 15: 0.141699\n",
            "Cost after epoch 20: 0.135304\n",
            "Cost after epoch 25: 0.130344\n",
            "Cost after epoch 30: 0.124696\n",
            "Cost after epoch 35: 0.119544\n",
            "Cost after epoch 40: 0.119500\n",
            "Cost after epoch 45: 0.119305\n",
            "Cost after epoch 50: 0.115165\n",
            "Cost after epoch 55: 0.114399\n",
            "Cost after epoch 60: 0.111381\n",
            "Cost after epoch 65: 0.111593\n",
            "Cost after epoch 70: 0.109206\n",
            "Cost after epoch 75: 0.111440\n",
            "Cost after epoch 80: 0.110954\n",
            "Cost after epoch 85: 0.106052\n",
            "Cost after epoch 90: 0.106815\n",
            "Cost after epoch 95: 0.106092\n"
          ],
          "name": "stdout"
        },
        {
          "output_type": "display_data",
          "data": {
            "image/png": "[encoded data removed]",
            "text/plain": [
              "<Figure size 432x288 with 1 Axes>"
            ]
          },
          "metadata": {
            "tags": [],
            "needs_background": "light"
          }
        },
        {
          "output_type": "stream",
          "text": [
            "Train Accuracy: 0.9662\n",
            "Test Accuracy: 0.9634\n"
          ],
          "name": "stdout"
        }
      ]
    }
  ]
}